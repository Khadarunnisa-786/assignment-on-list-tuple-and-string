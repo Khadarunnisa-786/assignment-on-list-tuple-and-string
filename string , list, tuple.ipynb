{
 "cells": [
  {
   "cell_type": "markdown",
   "id": "d6da935d-f955-459e-8074-f919ee7e277f",
   "metadata": {},
   "source": [
    "1. Create a string variable and print its length."
   ]
  },
  {
   "cell_type": "code",
   "execution_count": null,
   "id": "7262e4f0-9529-41db-bcdf-5f382ca73318",
   "metadata": {},
   "outputs": [],
   "source": [
    "s = \"datascience\""
   ]
  },
  {
   "cell_type": "code",
   "execution_count": 2,
   "id": "f60f30be-a6fb-48a9-bba3-fc6a4e849e48",
   "metadata": {},
   "outputs": [
    {
     "data": {
      "text/plain": [
       "11"
      ]
     },
     "execution_count": 2,
     "metadata": {},
     "output_type": "execute_result"
    }
   ],
   "source": [
    "len(s)"
   ]
  },
  {
   "cell_type": "markdown",
   "id": "d00ebe12-ab27-4ff2-818c-c23d7ccf118e",
   "metadata": {},
   "source": [
    "2. Take a string input from the user and print it in reverse."
   ]
  },
  {
   "cell_type": "code",
   "execution_count": 6,
   "id": "c985dbcf-19d4-4124-a4ba-d7e607345a57",
   "metadata": {},
   "outputs": [
    {
     "name": "stdin",
     "output_type": "stream",
     "text": [
      "please enter a string darascience\n"
     ]
    }
   ],
   "source": [
    "s = str(input('please enter a string'))"
   ]
  },
  {
   "cell_type": "code",
   "execution_count": 7,
   "id": "0f7a64fa-95f9-40c9-b93c-0ee33afb2fa4",
   "metadata": {},
   "outputs": [
    {
     "data": {
      "text/plain": [
       "'ecneicsarad'"
      ]
     },
     "execution_count": 7,
     "metadata": {},
     "output_type": "execute_result"
    }
   ],
   "source": [
    "s[::-1]"
   ]
  },
  {
   "cell_type": "markdown",
   "id": "6a249d83-1dc7-4392-b8c4-a7a8ef4874e6",
   "metadata": {},
   "source": [
    "3. Replace all occurrences of \"a\" with \"@\" in a given string."
   ]
  },
  {
   "cell_type": "code",
   "execution_count": 13,
   "id": "f8666709-427b-4663-ac31-81203c0a5e90",
   "metadata": {},
   "outputs": [
    {
     "data": {
      "text/plain": [
       "'kh@d@runnis@'"
      ]
     },
     "execution_count": 13,
     "metadata": {},
     "output_type": "execute_result"
    }
   ],
   "source": [
    "s = 'khadarunnisa'\n",
    "s.replace('a', '@')"
   ]
  },
  {
   "cell_type": "markdown",
   "id": "4762ff11-30f0-4db0-8fda-21a2bb2edd6f",
   "metadata": {},
   "source": [
    "4. Convert a string to all uppercase letters using a loop (without .upper())."
   ]
  },
  {
   "cell_type": "code",
   "execution_count": 4,
   "id": "1834cb55-6727-4681-a21b-7243167889e8",
   "metadata": {},
   "outputs": [
    {
     "data": {
      "text/plain": [
       "'Data science'"
      ]
     },
     "execution_count": 4,
     "metadata": {},
     "output_type": "execute_result"
    }
   ],
   "source": [
    "s = 'data science'\n",
    "s.capitalize()"
   ]
  },
  {
   "cell_type": "markdown",
   "id": "9c9a8b1e-c09d-40cd-b626-eb625997293c",
   "metadata": {},
   "source": [
    "5. Count how many times the letter \"e\" appears in a string."
   ]
  },
  {
   "cell_type": "code",
   "execution_count": 5,
   "id": "5a189fcf-534f-4f25-b25d-61f8eb281d0f",
   "metadata": {},
   "outputs": [
    {
     "data": {
      "text/plain": [
       "2"
      ]
     },
     "execution_count": 5,
     "metadata": {},
     "output_type": "execute_result"
    }
   ],
   "source": [
    "s = 'data science'\n",
    "s.count('e')"
   ]
  },
  {
   "cell_type": "markdown",
   "id": "d2a50dfb-f47a-4ad0-b90c-b50de6fa9ce4",
   "metadata": {},
   "source": [
    "6. Print the first and last character of a given string."
   ]
  },
  {
   "cell_type": "code",
   "execution_count": 14,
   "id": "8f740fa3-d7c2-44d7-bbaa-895710adb58e",
   "metadata": {},
   "outputs": [
    {
     "name": "stdout",
     "output_type": "stream",
     "text": [
      "d e\n"
     ]
    }
   ],
   "source": [
    "s = 'datascience'\n",
    "print(s[0], s[-1])"
   ]
  },
  {
   "cell_type": "markdown",
   "id": "1810c83f-7b82-4876-960b-0bcea415e8db",
   "metadata": {},
   "source": [
    "7. Concatenate two strings and print the result."
   ]
  },
  {
   "cell_type": "code",
   "execution_count": 15,
   "id": "d9db9e0e-0cb3-472a-831e-98d9355b0ade",
   "metadata": {},
   "outputs": [
    {
     "name": "stdout",
     "output_type": "stream",
     "text": [
      "hello world\n"
     ]
    }
   ],
   "source": [
    "s1 = 'hello'\n",
    "s2 = 'world'\n",
    "print(s1 + \" \" + s2)"
   ]
  },
  {
   "cell_type": "markdown",
   "id": "4e319df7-bca1-4b05-9fb8-9f6170d32459",
   "metadata": {},
   "source": [
    "8. Check if a given string contains the word \"Python\"."
   ]
  },
  {
   "cell_type": "code",
   "execution_count": 16,
   "id": "ba2830b3-1fc8-4227-a6ca-7b75dcde1eb9",
   "metadata": {},
   "outputs": [
    {
     "name": "stdout",
     "output_type": "stream",
     "text": [
      "True\n"
     ]
    }
   ],
   "source": [
    "s = \"I am learning Python programming.\"\n",
    "print(\"Python\" in s)"
   ]
  },
  {
   "cell_type": "markdown",
   "id": "59a021ba-51e0-42c2-96f4-ae71e8ebe283",
   "metadata": {},
   "source": [
    "9. Remove all spaces from a string and print the new string."
   ]
  },
  {
   "cell_type": "code",
   "execution_count": 17,
   "id": "909f68cf-decb-437d-aa26-7bcf98bd6b83",
   "metadata": {},
   "outputs": [
    {
     "name": "stdout",
     "output_type": "stream",
     "text": [
      "Pythonisfun\n"
     ]
    }
   ],
   "source": [
    "s = \"Python is fun\"\n",
    "print(s.replace(\" \", \"\"))"
   ]
  },
  {
   "cell_type": "markdown",
   "id": "bbb524c7-3351-42a1-be7b-594ce8644e79",
   "metadata": {},
   "source": [
    "10.Extract and print the first five characters of a string."
   ]
  },
  {
   "cell_type": "code",
   "execution_count": 18,
   "id": "39826397-4162-4586-a8bb-a355f0d71015",
   "metadata": {},
   "outputs": [
    {
     "name": "stdout",
     "output_type": "stream",
     "text": [
      "datas\n"
     ]
    }
   ],
   "source": [
    "s = 'datascience'\n",
    "print(s[:5])\n"
   ]
  },
  {
   "cell_type": "markdown",
   "id": "9453c788-ebc0-409a-9c7c-4c7e9c2ab456",
   "metadata": {},
   "source": [
    "11.Create a list of five numbers and print the list.\n"
   ]
  },
  {
   "cell_type": "code",
   "execution_count": 20,
   "id": "f2608f13-74d4-407e-8b97-a1640995accc",
   "metadata": {},
   "outputs": [
    {
     "name": "stdout",
     "output_type": "stream",
     "text": [
      "[10, 20, 30, 40, 50]\n"
     ]
    }
   ],
   "source": [
    " l = [10, 20, 30, 40, 50]\n",
    "print(l)"
   ]
  },
  {
   "cell_type": "markdown",
   "id": "26d36103-9a52-4ef6-944d-5a32facc02f7",
   "metadata": {},
   "source": [
    "12.Print the third element of a given list."
   ]
  },
  {
   "cell_type": "code",
   "execution_count": 21,
   "id": "d581aeb7-5f61-4db4-903e-7f6cd7414f14",
   "metadata": {},
   "outputs": [
    {
     "name": "stdout",
     "output_type": "stream",
     "text": [
      "30\n"
     ]
    }
   ],
   "source": [
    "print(l[2])"
   ]
  },
  {
   "cell_type": "markdown",
   "id": "8751c331-6ccf-4f24-90bf-aefe72e739a6",
   "metadata": {},
   "source": [
    "13.Replace the second element of a list with \"hello\"."
   ]
  },
  {
   "cell_type": "code",
   "execution_count": 22,
   "id": "f5c76c2e-ec23-4ac6-bc38-b4cbbf675328",
   "metadata": {},
   "outputs": [
    {
     "name": "stdout",
     "output_type": "stream",
     "text": [
      "[1, 'hello', 3, 4, 5]\n"
     ]
    }
   ],
   "source": [
    "l = [1, 2, 3, 4, 5]\n",
    "l[1] = \"hello\"\n",
    "print(l)"
   ]
  },
  {
   "cell_type": "markdown",
   "id": "e23b8939-805e-4aae-a217-10b936aaf6c8",
   "metadata": {},
   "source": [
    "14.Add a new element to the end of a list."
   ]
  },
  {
   "cell_type": "code",
   "execution_count": 23,
   "id": "558630d7-c13d-4923-93b1-7c89d4cdffea",
   "metadata": {},
   "outputs": [
    {
     "name": "stdout",
     "output_type": "stream",
     "text": [
      "[1, 2, 3, 4]\n"
     ]
    }
   ],
   "source": [
    "l = [1, 2, 3]\n",
    "l.append(4)\n",
    "print(l)"
   ]
  },
  {
   "cell_type": "markdown",
   "id": "004da1be-00e6-4958-a9a7-39cef1ab619b",
   "metadata": {},
   "source": [
    "15.Remove the last element from a list and print the modified list."
   ]
  },
  {
   "cell_type": "code",
   "execution_count": 24,
   "id": "fb2cc71e-3289-458c-89c1-c73bb412bf10",
   "metadata": {},
   "outputs": [
    {
     "name": "stdout",
     "output_type": "stream",
     "text": [
      "[10, 20, 30]\n"
     ]
    }
   ],
   "source": [
    "l= [10, 20, 30, 40]\n",
    "l.pop()\n",
    "print(l)"
   ]
  },
  {
   "cell_type": "markdown",
   "id": "14ebd1f2-1148-4838-ab6a-fee0c938a7ab",
   "metadata": {},
   "source": [
    "16.Print each element of a list one by one using a loop."
   ]
  },
  {
   "cell_type": "code",
   "execution_count": 25,
   "id": "d1fbe0b8-d3b2-47b9-b334-29ccc69efc0c",
   "metadata": {},
   "outputs": [
    {
     "name": "stdout",
     "output_type": "stream",
     "text": [
      "5\n",
      "10\n",
      "15\n",
      "20\n"
     ]
    }
   ],
   "source": [
    "l = [5, 10, 15, 20]\n",
    "\n",
    "for i  in l:\n",
    "    print(i)"
   ]
  },
  {
   "cell_type": "markdown",
   "id": "f85d1948-ceb9-4d32-8ef5-5996fb2a7aee",
   "metadata": {},
   "source": [
    "17.Check if the number 10 is in a given list."
   ]
  },
  {
   "cell_type": "code",
   "execution_count": 26,
   "id": "7337c495-8177-44e3-8b7d-2533a2d1c31b",
   "metadata": {},
   "outputs": [
    {
     "name": "stdout",
     "output_type": "stream",
     "text": [
      "True\n"
     ]
    }
   ],
   "source": [
    "l = [5, 10, 15, 20]\n",
    "print(10 in l)"
   ]
  },
  {
   "cell_type": "markdown",
   "id": "c3f658a4-0244-444a-8e4d-91887dfbce08",
   "metadata": {},
   "source": [
    "18.Create two lists and join them into one."
   ]
  },
  {
   "cell_type": "code",
   "execution_count": 27,
   "id": "a703206a-8085-407a-a737-b1ad6baf31e8",
   "metadata": {},
   "outputs": [
    {
     "name": "stdout",
     "output_type": "stream",
     "text": [
      "[1, 2, 3, 4, 5, 6]\n"
     ]
    }
   ],
   "source": [
    "l1 = [1, 2, 3]\n",
    "l2 = [4, 5, 6]\n",
    "\n",
    "l = l1 + l2\n",
    "print(l)"
   ]
  },
  {
   "cell_type": "markdown",
   "id": "77836e0e-36e7-4e60-8043-ae8943c4d034",
   "metadata": {},
   "source": [
    "19.Print a list in reverse order without using slicing ([::-1])."
   ]
  },
  {
   "cell_type": "code",
   "execution_count": 28,
   "id": "84e1a233-7f23-4de9-b019-f4de2f67f82f",
   "metadata": {},
   "outputs": [
    {
     "name": "stdout",
     "output_type": "stream",
     "text": [
      "5\n",
      "4\n",
      "3\n",
      "2\n",
      "1\n"
     ]
    }
   ],
   "source": [
    "l = [1, 2, 3, 4, 5]\n",
    "\n",
    "for i in range(len(l) - 1, -1, -1):\n",
    "    print(l[i])"
   ]
  },
  {
   "cell_type": "markdown",
   "id": "c1388bf1-3cc0-4f2e-b112-754985b8a93f",
   "metadata": {},
   "source": [
    "20.Sort a list in ascending order without using .sort()."
   ]
  },
  {
   "cell_type": "code",
   "execution_count": 32,
   "id": "ca0f23eb-6d4c-4836-815c-b5ba0e3045ac",
   "metadata": {},
   "outputs": [
    {
     "name": "stdout",
     "output_type": "stream",
     "text": [
      "[1, 2, 3, 5, 8]\n"
     ]
    }
   ],
   "source": [
    "l = [5, 3, 8, 1, 2]\n",
    "\n",
    "for i in range(len(l)):\n",
    "    for j in range(len(l) - 1 - i):\n",
    "        if l[j] > l[j + 1]:\n",
    "           l[j], l[j + 1] = l[j + 1], l[j]\n",
    "\n",
    "print(l)\n"
   ]
  },
  {
   "cell_type": "markdown",
   "id": "1bd5cddb-1835-4075-bde6-207903b9cbb4",
   "metadata": {},
   "source": [
    "21.Create a tuple of three colors and print it."
   ]
  },
  {
   "cell_type": "code",
   "execution_count": 33,
   "id": "d29ef0a3-9714-4f49-8eb4-32e086277c6c",
   "metadata": {},
   "outputs": [
    {
     "name": "stdout",
     "output_type": "stream",
     "text": [
      "('red', 'green', 'blue')\n"
     ]
    }
   ],
   "source": [
    "t = (\"red\", \"green\", \"blue\")\n",
    "print(t)"
   ]
  },
  {
   "cell_type": "markdown",
   "id": "078e3e22-98e3-4e24-81cb-4b7aa2b7488b",
   "metadata": {},
   "source": [
    "22.Print the second element of a given tuple."
   ]
  },
  {
   "cell_type": "code",
   "execution_count": 34,
   "id": "615d8a0b-2f85-4688-b9aa-5b3b76b1293e",
   "metadata": {},
   "outputs": [
    {
     "name": "stdout",
     "output_type": "stream",
     "text": [
      "green\n"
     ]
    }
   ],
   "source": [
    "t = (\"red\", \"green\", \"blue\")\n",
    "print(t[1])"
   ]
  },
  {
   "cell_type": "markdown",
   "id": "30c82686-a16a-4ad5-a6d1-bf51aab4e374",
   "metadata": {},
   "source": [
    "23.Try changing an element in a tuple (observe the error)."
   ]
  },
  {
   "cell_type": "code",
   "execution_count": 35,
   "id": "bdfcde19-26b4-4346-9ffd-44f90524753b",
   "metadata": {},
   "outputs": [
    {
     "ename": "TypeError",
     "evalue": "'tuple' object does not support item assignment",
     "output_type": "error",
     "traceback": [
      "\u001b[1;31m---------------------------------------------------------------------------\u001b[0m",
      "\u001b[1;31mTypeError\u001b[0m                                 Traceback (most recent call last)",
      "Cell \u001b[1;32mIn[35], line 2\u001b[0m\n\u001b[0;32m      1\u001b[0m t \u001b[38;5;241m=\u001b[39m (\u001b[38;5;241m1\u001b[39m, \u001b[38;5;241m2\u001b[39m, \u001b[38;5;241m3\u001b[39m)\n\u001b[1;32m----> 2\u001b[0m t[\u001b[38;5;241m0\u001b[39m] \u001b[38;5;241m=\u001b[39m \u001b[38;5;241m10\u001b[39m\n",
      "\u001b[1;31mTypeError\u001b[0m: 'tuple' object does not support item assignment"
     ]
    }
   ],
   "source": [
    "t = (1, 2, 3)\n",
    "t[0] = 10 "
   ]
  },
  {
   "cell_type": "markdown",
   "id": "a80191b0-14c3-4517-81d1-c4381e345f99",
   "metadata": {},
   "source": [
    "24.Convert a tuple to a list and print it."
   ]
  },
  {
   "cell_type": "code",
   "execution_count": 36,
   "id": "8a7bb6b4-f6ca-4db6-aafc-fef3fc2ce9cf",
   "metadata": {},
   "outputs": [
    {
     "name": "stdout",
     "output_type": "stream",
     "text": [
      "[1, 2, 3]\n"
     ]
    }
   ],
   "source": [
    "t = (1, 2, 3)\n",
    "l = list(t)\n",
    "print(l)"
   ]
  },
  {
   "cell_type": "markdown",
   "id": "4e7111a3-ce0f-47e2-8766-aa89971a5e62",
   "metadata": {},
   "source": [
    "25.Check if \"blue\" exists in a given tuple."
   ]
  },
  {
   "cell_type": "code",
   "execution_count": 37,
   "id": "dca6c821-8ecb-4b2a-a670-fb7f18630a26",
   "metadata": {},
   "outputs": [
    {
     "name": "stdout",
     "output_type": "stream",
     "text": [
      "True\n"
     ]
    }
   ],
   "source": [
    "t = (\"red\", \"green\", \"blue\", \"yellow\")\n",
    "print(\"blue\" in t)\n"
   ]
  },
  {
   "cell_type": "markdown",
   "id": "f4682c41-be89-4786-8659-43454f7ec58a",
   "metadata": {},
   "source": [
    "26.Print each element of a tuple using a loop."
   ]
  },
  {
   "cell_type": "code",
   "execution_count": 38,
   "id": "034ce120-12a0-46cc-879d-0135fdf3764c",
   "metadata": {},
   "outputs": [
    {
     "name": "stdout",
     "output_type": "stream",
     "text": [
      "red\n",
      "green\n",
      "blue\n",
      "yellow\n"
     ]
    }
   ],
   "source": [
    "for i in t:\n",
    "    print(i)"
   ]
  },
  {
   "cell_type": "markdown",
   "id": "694ffbda-5c94-4fb5-8175-963c961546d5",
   "metadata": {},
   "source": [
    "27.Merge two tuples and print the result."
   ]
  },
  {
   "cell_type": "code",
   "execution_count": 39,
   "id": "ca43e7d4-3554-4561-aa03-276cb19c3660",
   "metadata": {},
   "outputs": [
    {
     "name": "stdout",
     "output_type": "stream",
     "text": [
      "(1, 2, 3, 4, 5, 6)\n"
     ]
    }
   ],
   "source": [
    "t1 = (1, 2, 3)\n",
    "t2 = (4, 5, 6)\n",
    "\n",
    "t = t1 + t2\n",
    "print(t)"
   ]
  },
  {
   "cell_type": "markdown",
   "id": "5255461a-9079-494d-99d4-0fb59c26d20d",
   "metadata": {},
   "source": [
    "28.Print a tuple in reverse order."
   ]
  },
  {
   "cell_type": "code",
   "execution_count": 40,
   "id": "2b42e9dd-d55b-44dd-ad6f-6d9e444113d4",
   "metadata": {},
   "outputs": [
    {
     "name": "stdout",
     "output_type": "stream",
     "text": [
      "yellow\n",
      "blue\n",
      "green\n",
      "red\n"
     ]
    }
   ],
   "source": [
    "t = (\"red\", \"green\", \"blue\", \"yellow\")\n",
    "for i in range(len(t) - 1, -1, -1):\n",
    "    print(t[i])"
   ]
  },
  {
   "cell_type": "markdown",
   "id": "fcbc1eba-0e2e-42e4-9a44-1f85d0900b6d",
   "metadata": {},
   "source": [
    "29.Find the length of a tuple without using len()."
   ]
  },
  {
   "cell_type": "code",
   "execution_count": 41,
   "id": "e078385c-1e31-4568-bb2d-e9f18f073ee8",
   "metadata": {},
   "outputs": [
    {
     "name": "stdout",
     "output_type": "stream",
     "text": [
      "41\n"
     ]
    }
   ],
   "source": [
    "t = (10, 20, 30, 40)\n",
    "count = 0\n",
    "\n",
    "for i  in t:\n",
    "      i += 1\n",
    "\n",
    "print(i)\n"
   ]
  },
  {
   "cell_type": "markdown",
   "id": "b7912aff-5c05-469f-8b81-3dac9fe730f9",
   "metadata": {},
   "source": [
    "30.Create a tuple with a single element and print its type."
   ]
  },
  {
   "cell_type": "code",
   "execution_count": 44,
   "id": "54c4a4df-ba23-4b25-88b3-0878c6468c29",
   "metadata": {},
   "outputs": [
    {
     "name": "stdout",
     "output_type": "stream",
     "text": [
      "<class 'int'>\n"
     ]
    }
   ],
   "source": [
    "t = (1)\n",
    "print(type(t))"
   ]
  },
  {
   "cell_type": "markdown",
   "id": "649713e8-b0db-4091-adc2-27dfb1c03e10",
   "metadata": {},
   "source": [
    "31.Create a string \"Hello, World!\" and print only \"World!\"."
   ]
  },
  {
   "cell_type": "code",
   "execution_count": 45,
   "id": "971c9a42-ff9c-43cc-8f92-701c59df47fd",
   "metadata": {},
   "outputs": [
    {
     "name": "stdout",
     "output_type": "stream",
     "text": [
      "World!\n"
     ]
    }
   ],
   "source": [
    "s = \"Hello, World!\"\n",
    "print(s[7:])"
   ]
  },
  {
   "cell_type": "markdown",
   "id": "c8f6873c-c996-4926-91e5-612896ac24e4",
   "metadata": {},
   "source": [
    "32.Convert \"Python is fun\" to \"PYTHON IS FUN\" without using .upper()."
   ]
  },
  {
   "cell_type": "code",
   "execution_count": 46,
   "id": "79aeb645-0eff-4433-b650-9fdf9ef39118",
   "metadata": {},
   "outputs": [
    {
     "data": {
      "text/plain": [
       "'PYTHON IS FUN'"
      ]
     },
     "execution_count": 46,
     "metadata": {},
     "output_type": "execute_result"
    }
   ],
   "source": [
    "s = \"Python is fun\"\n",
    "s.upper()"
   ]
  },
  {
   "cell_type": "markdown",
   "id": "d35a55a3-187b-4cf3-80a0-9f196f82a460",
   "metadata": {},
   "source": [
    "33.Count how many words are in \"I love learning Python\" (without using .split())."
   ]
  },
  {
   "cell_type": "code",
   "execution_count": 47,
   "id": "902864a4-30c9-4946-8a45-3d32badc289e",
   "metadata": {},
   "outputs": [
    {
     "name": "stdout",
     "output_type": "stream",
     "text": [
      "4\n"
     ]
    }
   ],
   "source": [
    "s = \"I love learning Python\"\n",
    "i = 1  \n",
    "\n",
    "for char in s:\n",
    "    if char == \" \":\n",
    "        i += 1\n",
    "\n",
    "print(i)\n"
   ]
  },
  {
   "cell_type": "markdown",
   "id": "6860a05a-67cc-438f-9ae3-9da71f652934",
   "metadata": {},
   "source": [
    "34.Take a string input from the user and check if it starts with \"Hello\".\n"
   ]
  },
  {
   "cell_type": "code",
   "execution_count": 48,
   "id": "97d998cd-ee3a-4328-b397-21700874ffe2",
   "metadata": {},
   "outputs": [
    {
     "name": "stdin",
     "output_type": "stream",
     "text": [
      "Enter a string:  khadarunnisa\n"
     ]
    },
    {
     "name": "stdout",
     "output_type": "stream",
     "text": [
      "False\n"
     ]
    }
   ],
   "source": [
    "s = input(\"Enter a string: \")\n",
    "print(s[:5] == \"Hello\")"
   ]
  },
  {
   "cell_type": "markdown",
   "id": "5a6ca2d1-9027-4b4e-af1c-0c5c8a57dc73",
   "metadata": {},
   "source": [
    "35.Print every second character of a string.\n"
   ]
  },
  {
   "cell_type": "code",
   "execution_count": 49,
   "id": "24b23a1a-f2fe-4d9b-8901-c1a2b4bf3b06",
   "metadata": {},
   "outputs": [
    {
     "name": "stdout",
     "output_type": "stream",
     "text": [
      "d\n",
      "t\n",
      "s\n",
      "i\n",
      "n\n",
      "e\n"
     ]
    }
   ],
   "source": [
    "s = 'datascience'\n",
    "for i in range(0, len(s), 2):\n",
    "    print(s[i])"
   ]
  },
  {
   "cell_type": "markdown",
   "id": "7f3a93bd-a156-4a5c-8abd-79386d45d790",
   "metadata": {},
   "source": [
    "36.Replace all vowels in a string with \"*\"."
   ]
  },
  {
   "cell_type": "code",
   "execution_count": 53,
   "id": "39f7b28d-11c0-46a2-84f6-eb2d9e63de18",
   "metadata": {},
   "outputs": [
    {
     "name": "stdout",
     "output_type": "stream",
     "text": [
      "H*ll*, Pyth*n!\n"
     ]
    }
   ],
   "source": [
    "s = \"Hello, Python!\"\n",
    "s1 = \"\"\n",
    "\n",
    "for i in s:\n",
    "    if i.lower() in \"aeiou\":\n",
    "        s1 += \"*\"\n",
    "    else:\n",
    "        s1 += i\n",
    "\n",
    "print(s1)\n"
   ]
  },
  {
   "cell_type": "markdown",
   "id": "df405771-9869-4030-be84-7d1059bae955",
   "metadata": {},
   "source": [
    "37.Swap the first and last character of a string."
   ]
  },
  {
   "cell_type": "code",
   "execution_count": 55,
   "id": "df2903fe-fa27-48af-afd1-252071013a64",
   "metadata": {},
   "outputs": [
    {
     "name": "stdout",
     "output_type": "stream",
     "text": [
      "nythoP\n"
     ]
    }
   ],
   "source": [
    "s = \"Python\"\n",
    "s1 = s[-1] + s[1:-1] + s[0]\n",
    "\n",
    "print(s1)\n"
   ]
  },
  {
   "cell_type": "markdown",
   "id": "08d2fc33-ecab-4517-85f0-32b5f873ab3a",
   "metadata": {},
   "source": [
    "38.Check if two given strings are the same (case-sensitive)."
   ]
  },
  {
   "cell_type": "code",
   "execution_count": 56,
   "id": "f237c274-4a1b-4d8f-9d19-c661a5297fe1",
   "metadata": {},
   "outputs": [
    {
     "name": "stdout",
     "output_type": "stream",
     "text": [
      "False\n"
     ]
    }
   ],
   "source": [
    "s1 = \"Python\"\n",
    "s2 = \"python\"\n",
    "\n",
    "print(s1 == s2)"
   ]
  },
  {
   "cell_type": "markdown",
   "id": "31e77fca-9e52-4ba6-8a28-054877840139",
   "metadata": {},
   "source": [
    "39.Print a string without the first and last character."
   ]
  },
  {
   "cell_type": "code",
   "execution_count": 57,
   "id": "06d5058b-139c-40f1-a5f2-64b49485d071",
   "metadata": {},
   "outputs": [
    {
     "name": "stdout",
     "output_type": "stream",
     "text": [
      "ytho\n"
     ]
    }
   ],
   "source": [
    "s = \"Python\"\n",
    "print(s[1:-1])\n"
   ]
  },
  {
   "cell_type": "markdown",
   "id": "a896ac6f-2f03-435c-afd9-b39f2c84723a",
   "metadata": {},
   "source": [
    "40.Convert a string \"12345\" into a list of individual characters."
   ]
  },
  {
   "cell_type": "code",
   "execution_count": 58,
   "id": "7d20a597-2f38-4ba8-8dab-de1e683d1a9d",
   "metadata": {},
   "outputs": [
    {
     "name": "stdout",
     "output_type": "stream",
     "text": [
      "['1', '2', '3', '4', '5']\n"
     ]
    }
   ],
   "source": [
    "s = \"12345\"\n",
    "s1 = list(s)\n",
    "print(s1)\n"
   ]
  },
  {
   "cell_type": "markdown",
   "id": "1d518aec-1465-4dd2-8a6a-a80bd96dbf00",
   "metadata": {},
   "source": [
    "41.Create a list of five cities and print only the last three."
   ]
  },
  {
   "cell_type": "code",
   "execution_count": 59,
   "id": "f9a89b46-b324-4d83-822a-75d0175676c7",
   "metadata": {},
   "outputs": [
    {
     "name": "stdout",
     "output_type": "stream",
     "text": [
      "['Paris', 'Tokyo', 'Sydney']\n"
     ]
    }
   ],
   "source": [
    "l = [\"New York\", \"London\", \"Paris\", \"Tokyo\", \"Sydney\"]\n",
    "print(l[-3:])"
   ]
  },
  {
   "cell_type": "markdown",
   "id": "211b0548-e339-4e95-8306-c45830668a7c",
   "metadata": {},
   "source": [
    "42.Remove the middle element from a list of five elements."
   ]
  },
  {
   "cell_type": "code",
   "execution_count": 60,
   "id": "5cffc907-fa79-45ef-b373-2cb35177677f",
   "metadata": {},
   "outputs": [
    {
     "name": "stdout",
     "output_type": "stream",
     "text": [
      "[10, 20, 40, 50]\n"
     ]
    }
   ],
   "source": [
    "l = [10, 20, 30, 40, 50]\n",
    "l.pop(2)\n",
    "print(l)"
   ]
  },
  {
   "cell_type": "markdown",
   "id": "e20be644-c089-47c8-bccb-80c709b8f5fa",
   "metadata": {},
   "source": [
    "43.Take five numbers from the user and store them in a list."
   ]
  },
  {
   "cell_type": "code",
   "execution_count": 13,
   "id": "2b25bea4-10a8-48ac-9084-1d818c06667d",
   "metadata": {},
   "outputs": [
    {
     "name": "stdin",
     "output_type": "stream",
     "text": [
      "Enter a number:  10\n",
      "Enter a number:  20\n",
      "Enter a number:  30\n",
      "Enter a number:  40\n",
      "Enter a number:  50\n"
     ]
    },
    {
     "name": "stdout",
     "output_type": "stream",
     "text": [
      "[10, 20, 30, 40, 50]\n"
     ]
    }
   ],
   "source": [
    "l = []\n",
    "l.append(int(input(\"Enter a number: \")))  \n",
    "l.append(int(input(\"Enter a number: \")))  \n",
    "l.append(int(input(\"Enter a number: \")))  \n",
    "l.append(int(input(\"Enter a number: \")))  \n",
    "l.append(int(input(\"Enter a number: \")))  \n",
    "\n",
    "print(l)\n",
    "\n"
   ]
  },
  {
   "cell_type": "markdown",
   "id": "a90bcc23-b997-4795-8ce2-31af5ce3b032",
   "metadata": {},
   "source": [
    "44.Find the index of \"apple\" in the list [\"banana\", \"orange\", \"apple\", \"grape\"].\n"
   ]
  },
  {
   "cell_type": "code",
   "execution_count": 15,
   "id": "7b6c51f0-89be-4fe5-8633-604a29cc5e74",
   "metadata": {},
   "outputs": [
    {
     "name": "stdout",
     "output_type": "stream",
     "text": [
      "2\n"
     ]
    }
   ],
   "source": [
    "l = [\"banana\", \"orange\", \"apple\", \"grape\"]\n",
    "index = l.index(\"apple\")\n",
    "print(index)\n"
   ]
  },
  {
   "cell_type": "markdown",
   "id": "f971338c-9761-4279-ab91-01d7c5b1c280",
   "metadata": {},
   "source": [
    "45.Print only the even numbers from a given list.\n"
   ]
  },
  {
   "cell_type": "code",
   "execution_count": 16,
   "id": "81ccd26a-65c6-43dc-b538-fb3bb6db57c5",
   "metadata": {},
   "outputs": [
    {
     "name": "stdout",
     "output_type": "stream",
     "text": [
      "2\n",
      "4\n",
      "6\n"
     ]
    }
   ],
   "source": [
    "l = [1, 2, 3, 4, 5, 6]\n",
    "\n",
    "for i in l:\n",
    "    if i % 2 == 0:\n",
    "        print(i)\n"
   ]
  },
  {
   "cell_type": "markdown",
   "id": "80a25627-b788-411d-91ae-2ffadd6089b7",
   "metadata": {},
   "source": [
    "46.Reverse a list by swapping elements (without [::-1])."
   ]
  },
  {
   "cell_type": "code",
   "execution_count": 6,
   "id": "9fd133d7-f41f-4173-87bd-a953f1eb32b0",
   "metadata": {},
   "outputs": [
    {
     "name": "stdout",
     "output_type": "stream",
     "text": [
      "Reversed list: [3, 2, 1]\n"
     ]
    }
   ],
   "source": [
    "l = [1, 2,3] \n",
    "l[0], l[2] = l[2], l[0]\n",
    "\n",
    "print(\"Reversed list:\", l)\n"
   ]
  },
  {
   "cell_type": "markdown",
   "id": "f765c5a2-6b7e-458e-9e99-349ee6b22b94",
   "metadata": {},
   "source": [
    "47.Create a list of ten numbers and print only the unique elements."
   ]
  },
  {
   "cell_type": "code",
   "execution_count": 7,
   "id": "737cfe3a-a8a1-464c-bc5a-d8b8a92dc7d3",
   "metadata": {},
   "outputs": [
    {
     "name": "stdout",
     "output_type": "stream",
     "text": [
      "1\n",
      "3\n",
      "4\n",
      "6\n"
     ]
    }
   ],
   "source": [
    "l = [1, 2, 2, 3, 4, 5, 5, 6, 7, 7]\n",
    "for i in l:\n",
    "    if l.count(i) == 1:\n",
    "        print(i)"
   ]
  },
  {
   "cell_type": "markdown",
   "id": "c7c90766-3b86-4b9d-b606-a33d9ac03ccb",
   "metadata": {},
   "source": [
    "48.Print the sum of all elements in a list (without using sum())."
   ]
  },
  {
   "cell_type": "code",
   "execution_count": 12,
   "id": "95eb038a-e55a-4f11-b0db-cbeeb287fc6e",
   "metadata": {},
   "outputs": [
    {
     "name": "stdout",
     "output_type": "stream",
     "text": [
      "100\n"
     ]
    }
   ],
   "source": [
    "l = [10, 20, 30, 40]\n",
    "l1 = 0\n",
    "for i in l:\n",
    "    l1 += i\n",
    "\n",
    "print( l1)\n"
   ]
  },
  {
   "cell_type": "markdown",
   "id": "f107a15a-f14a-4145-957f-679a5beaf5bc",
   "metadata": {},
   "source": [
    "49.Move the first element of a list to the last position."
   ]
  },
  {
   "cell_type": "code",
   "execution_count": 11,
   "id": "cf620a64-ced2-49cb-b19d-cd4553617b89",
   "metadata": {},
   "outputs": [
    {
     "name": "stdout",
     "output_type": "stream",
     "text": [
      "[2, 3, 4, 5, 1]\n"
     ]
    }
   ],
   "source": [
    "l= [1, 2, 3, 4, 5]\n",
    "l1 = l.pop(0)  \n",
    "l.append(l1)   \n",
    "\n",
    "print(l)\n"
   ]
  },
  {
   "cell_type": "markdown",
   "id": "9abaf5ec-9f31-42d9-a4e2-52d9fbd5b83d",
   "metadata": {},
   "source": [
    "50.Create a list with mixed data types (int, float, string) and print each element with its type."
   ]
  },
  {
   "cell_type": "code",
   "execution_count": 14,
   "id": "617920b2-cb17-4b16-b549-2fc866bfb670",
   "metadata": {},
   "outputs": [
    {
     "name": "stdout",
     "output_type": "stream",
     "text": [
      "Value: 42, Type: <class 'int'>\n",
      "Value: 3.14, Type: <class 'float'>\n",
      "Value: hello, Type: <class 'str'>\n",
      "Value: 100, Type: <class 'int'>\n",
      "Value: world, Type: <class 'str'>\n",
      "Value: 2.718, Type: <class 'float'>\n"
     ]
    }
   ],
   "source": [
    "l= [42, 3.14, \"hello\", 100, \"world\", 2.718]\n",
    "\n",
    "for i in l:\n",
    "    print(f\"Value: {i}, Type: {type(i)}\")\n"
   ]
  },
  {
   "cell_type": "markdown",
   "id": "242cb245-dc8e-476f-96cf-3bb8a4eb915c",
   "metadata": {},
   "source": [
    "51.Create a tuple of five numbers and print only the first three."
   ]
  },
  {
   "cell_type": "code",
   "execution_count": 15,
   "id": "b38d74c0-2fab-4ab9-b66b-29c59f9f32e6",
   "metadata": {},
   "outputs": [
    {
     "name": "stdout",
     "output_type": "stream",
     "text": [
      "(10, 20, 30)\n"
     ]
    }
   ],
   "source": [
    "t = (10, 20, 30, 40, 50)\n",
    "print(t[0:3])\n"
   ]
  },
  {
   "cell_type": "markdown",
   "id": "7882b1dd-1461-48f0-87bc-7939bae3d963",
   "metadata": {},
   "source": [
    "52.Print the last element of a tuple without using negative indexing."
   ]
  },
  {
   "cell_type": "code",
   "execution_count": 16,
   "id": "54de6f0f-f51d-4c49-8e52-87f791365621",
   "metadata": {},
   "outputs": [
    {
     "name": "stdout",
     "output_type": "stream",
     "text": [
      "25\n"
     ]
    }
   ],
   "source": [
    "t = (5, 10, 15, 20, 25)\n",
    "l1 = t[len(t) - 1]\n",
    "\n",
    "print(l1)\n"
   ]
  },
  {
   "cell_type": "markdown",
   "id": "df7f2579-96b3-41ad-8d93-96ca79e2da2c",
   "metadata": {},
   "source": [
    "53.Convert a tuple (1, 2, 3, 4, 5) into a list and add a new number."
   ]
  },
  {
   "cell_type": "code",
   "execution_count": 17,
   "id": "d2e3093a-7794-412b-b8a1-fb82883d3ac0",
   "metadata": {},
   "outputs": [
    {
     "name": "stdout",
     "output_type": "stream",
     "text": [
      "[1, 2, 3, 4, 5, 6]\n"
     ]
    }
   ],
   "source": [
    "t = (1, 2, 3, 4, 5)\n",
    "lst = list(t)\n",
    "lst.append(6)\n",
    "print(lst)\n"
   ]
  },
  {
   "cell_type": "markdown",
   "id": "8ba656b8-b79c-49dd-8441-20b6027c836f",
   "metadata": {},
   "source": [
    "54.Try deleting an element from a tuple and observe the error."
   ]
  },
  {
   "cell_type": "code",
   "execution_count": 18,
   "id": "1ef43296-db28-4676-a445-4df03341cf0b",
   "metadata": {},
   "outputs": [
    {
     "ename": "TypeError",
     "evalue": "'tuple' object doesn't support item deletion",
     "output_type": "error",
     "traceback": [
      "\u001b[1;31m---------------------------------------------------------------------------\u001b[0m",
      "\u001b[1;31mTypeError\u001b[0m                                 Traceback (most recent call last)",
      "Cell \u001b[1;32mIn[18], line 2\u001b[0m\n\u001b[0;32m      1\u001b[0m t \u001b[38;5;241m=\u001b[39m (\u001b[38;5;241m1\u001b[39m, \u001b[38;5;241m2\u001b[39m, \u001b[38;5;241m3\u001b[39m, \u001b[38;5;241m4\u001b[39m, \u001b[38;5;241m5\u001b[39m)\n\u001b[1;32m----> 2\u001b[0m \u001b[38;5;28;01mdel\u001b[39;00m t[\u001b[38;5;241m1\u001b[39m]\n",
      "\u001b[1;31mTypeError\u001b[0m: 'tuple' object doesn't support item deletion"
     ]
    }
   ],
   "source": [
    "t = (1, 2, 3, 4, 5)\n",
    "del t[1]\n"
   ]
  },
  {
   "cell_type": "markdown",
   "id": "1c9585cd-68ce-460e-8e2b-cbe607a6a4a1",
   "metadata": {},
   "source": [
    "55.Extract the middle element from a tuple with an odd number of elements."
   ]
  },
  {
   "cell_type": "code",
   "execution_count": 19,
   "id": "0db5b633-5589-4604-9c96-e6f0f2dae2cd",
   "metadata": {},
   "outputs": [
    {
     "name": "stdout",
     "output_type": "stream",
     "text": [
      "30\n"
     ]
    }
   ],
   "source": [
    "t = (10, 20, 30, 40, 50)\n",
    "t1 = len(t) // 2\n",
    "t1 = t[t1]\n",
    "\n",
    "print(t1)\n"
   ]
  },
  {
   "cell_type": "markdown",
   "id": "da35cbe3-956b-48f9-bd8d-0c308fa822b5",
   "metadata": {},
   "source": [
    "56.Check if two tuples (1, 2, 3) and (3, 2, 1) are the same."
   ]
  },
  {
   "cell_type": "code",
   "execution_count": 20,
   "id": "43f42839-d5e0-49bc-8233-5b65917e6c8c",
   "metadata": {},
   "outputs": [
    {
     "name": "stdout",
     "output_type": "stream",
     "text": [
      "False\n"
     ]
    }
   ],
   "source": [
    "t1 = (1, 2, 3)\n",
    "t2 = (3, 2, 1)\n",
    "t = t1 == t2\n",
    "\n",
    "print(t)\n"
   ]
  },
  {
   "cell_type": "markdown",
   "id": "1f67ddf9-4d91-4114-858a-77bceb0a9160",
   "metadata": {},
   "source": [
    "57.Create a nested tuple and print an inner element."
   ]
  },
  {
   "cell_type": "code",
   "execution_count": 22,
   "id": "2dcb855f-2c6a-4a35-aacb-bff13f186aae",
   "metadata": {},
   "outputs": [
    {
     "name": "stdout",
     "output_type": "stream",
     "text": [
      "(1, 2, (3, 4, 5), 6)\n"
     ]
    }
   ],
   "source": [
    "t = (1, 2, (3, 4, 5), 6)\n",
    "print(t)\n"
   ]
  },
  {
   "cell_type": "markdown",
   "id": "17423d09-e7e0-4361-92b2-593737556294",
   "metadata": {},
   "source": [
    "58.Merge three tuples into one."
   ]
  },
  {
   "cell_type": "code",
   "execution_count": 23,
   "id": "ca218acb-3d5c-45c0-816c-d306e2bb5876",
   "metadata": {},
   "outputs": [
    {
     "name": "stdout",
     "output_type": "stream",
     "text": [
      "(1, 2, 3, 4, 5, 6)\n"
     ]
    }
   ],
   "source": [
    "t1 = (1, 2)\n",
    "t2 = (3, 4)\n",
    "t3 = (5, 6)\n",
    "t = t1 + t2 + t3\n",
    "\n",
    "print(t)\n"
   ]
  },
  {
   "cell_type": "markdown",
   "id": "f6b4ea7e-ba03-4e47-8bd9-4b2c4b30818e",
   "metadata": {},
   "source": [
    "59.Find the index of 5 in the tuple (1, 3, 5, 7, 9).\n"
   ]
  },
  {
   "cell_type": "code",
   "execution_count": 31,
   "id": "db5b06eb-ab86-4ce2-a11b-0babd68615a7",
   "metadata": {},
   "outputs": [
    {
     "data": {
      "text/plain": [
       "45.67"
      ]
     },
     "execution_count": 31,
     "metadata": {},
     "output_type": "execute_result"
    }
   ],
   "source": [
    "t = (4,5,6,7,\"aimnxt\" ,45.67, True)\n",
    "t[5]"
   ]
  },
  {
   "cell_type": "markdown",
   "id": "d4f947fa-a35b-49cb-9c34-003b754a3d69",
   "metadata": {},
   "source": [
    "60.Unpack a tuple into separate variables."
   ]
  },
  {
   "cell_type": "code",
   "execution_count": 32,
   "id": "032944f2-7b35-4771-aa09-60b41d94da24",
   "metadata": {},
   "outputs": [
    {
     "name": "stdout",
     "output_type": "stream",
     "text": [
      "a: 10\n",
      "b: 20\n",
      "c: 30\n"
     ]
    }
   ],
   "source": [
    "t = (10, 20, 30)\n",
    "a, b, c = t\n",
    "print(\"a:\", a)\n",
    "print(\"b:\", b)\n",
    "print(\"c:\", c)\n"
   ]
  },
  {
   "cell_type": "code",
   "execution_count": null,
   "id": "348296d6-f4d2-42ca-9818-6b709800a055",
   "metadata": {},
   "outputs": [],
   "source": []
  }
 ],
 "metadata": {
  "kernelspec": {
   "display_name": "Python 3 (ipykernel)",
   "language": "python",
   "name": "python3"
  },
  "language_info": {
   "codemirror_mode": {
    "name": "ipython",
    "version": 3
   },
   "file_extension": ".py",
   "mimetype": "text/x-python",
   "name": "python",
   "nbconvert_exporter": "python",
   "pygments_lexer": "ipython3",
   "version": "3.13.5"
  }
 },
 "nbformat": 4,
 "nbformat_minor": 5
}
